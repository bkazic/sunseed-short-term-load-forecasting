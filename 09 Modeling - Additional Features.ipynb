{
 "metadata": {
  "name": "",
  "signature": "sha256:0f23ac04dbe7b710efbaf2d85e16a714091667ea6f070a40ecb423b86ffe149c"
 },
 "nbformat": 3,
 "nbformat_minor": 0,
 "worksheets": [
  {
   "cells": [
    {
     "cell_type": "heading",
     "level": 1,
     "metadata": {},
     "source": [
      "Additional Features and Aggregates"
     ]
    },
    {
     "cell_type": "code",
     "collapsed": false,
     "input": [
      "%matplotlib inline\n",
      "import matplotlib as mpl\n",
      "import pandas as pd\n",
      "import matplotlib.pyplot as plt\n",
      "import matplotlib.dates as dates\n",
      "import numpy as np\n",
      "import os"
     ],
     "language": "python",
     "metadata": {},
     "outputs": [],
     "prompt_number": 1
    },
    {
     "cell_type": "heading",
     "level": 2,
     "metadata": {},
     "source": [
      "Loading data"
     ]
    },
    {
     "cell_type": "code",
     "collapsed": false,
     "input": [
      "input_file_name = \"merged.csv\"\n",
      "input_file_path = os.path.join(os.path.join(os.getcwd(), \"data\"), input_file_name)\n",
      "\n",
      "data = pd.read_csv(input_file_path, index_col=0, parse_dates=True, engine='c', dtype=float32_cols)\n",
      "data.head()\n",
      "data.iloc[0:3,-10:]"
     ],
     "language": "python",
     "metadata": {},
     "outputs": [
      {
       "html": [
        "<div style=\"max-height:1000px;max-width:1500px;overflow:auto;\">\n",
        "<table border=\"1\" class=\"dataframe\">\n",
        "  <thead>\n",
        "    <tr style=\"text-align: right;\">\n",
        "      <th></th>\n",
        "      <th>rh_termin</th>\n",
        "      <th>rh</th>\n",
        "      <th>rhmin</th>\n",
        "      <th>rhmax</th>\n",
        "      <th>padavine</th>\n",
        "      <th>veter_hitrost</th>\n",
        "      <th>veter_vek_smer</th>\n",
        "      <th>veter_max_hitrost</th>\n",
        "      <th>energija_gl</th>\n",
        "      <th>energija_di</th>\n",
        "    </tr>\n",
        "  </thead>\n",
        "  <tbody>\n",
        "    <tr>\n",
        "      <th>2011-01-01 00:30:00</th>\n",
        "      <td> 95</td>\n",
        "      <td> 95</td>\n",
        "      <td> 95</td>\n",
        "      <td> 95</td>\n",
        "      <td> 0</td>\n",
        "      <td> 1.3</td>\n",
        "      <td> 100</td>\n",
        "      <td> 1.90</td>\n",
        "      <td> 0</td>\n",
        "      <td> 0</td>\n",
        "    </tr>\n",
        "    <tr>\n",
        "      <th>2011-01-01 00:45:00</th>\n",
        "      <td> 95</td>\n",
        "      <td> 95</td>\n",
        "      <td> 95</td>\n",
        "      <td> 95</td>\n",
        "      <td> 0</td>\n",
        "      <td> 1.0</td>\n",
        "      <td> 102</td>\n",
        "      <td> 1.65</td>\n",
        "      <td> 0</td>\n",
        "      <td> 0</td>\n",
        "    </tr>\n",
        "    <tr>\n",
        "      <th>2011-01-01 01:00:00</th>\n",
        "      <td> 95</td>\n",
        "      <td> 95</td>\n",
        "      <td> 95</td>\n",
        "      <td> 95</td>\n",
        "      <td> 0</td>\n",
        "      <td> 0.7</td>\n",
        "      <td> 104</td>\n",
        "      <td> 1.40</td>\n",
        "      <td> 0</td>\n",
        "      <td> 0</td>\n",
        "    </tr>\n",
        "  </tbody>\n",
        "</table>\n",
        "</div>"
       ],
       "metadata": {},
       "output_type": "pyout",
       "prompt_number": 4,
       "text": [
        "                     rh_termin  rh  rhmin  rhmax  padavine  veter_hitrost  \\\n",
        "2011-01-01 00:30:00         95  95     95     95         0            1.3   \n",
        "2011-01-01 00:45:00         95  95     95     95         0            1.0   \n",
        "2011-01-01 01:00:00         95  95     95     95         0            0.7   \n",
        "\n",
        "                     veter_vek_smer  veter_max_hitrost  energija_gl  \\\n",
        "2011-01-01 00:30:00             100               1.90            0   \n",
        "2011-01-01 00:45:00             102               1.65            0   \n",
        "2011-01-01 01:00:00             104               1.40            0   \n",
        "\n",
        "                     energija_di  \n",
        "2011-01-01 00:30:00            0  \n",
        "2011-01-01 00:45:00            0  \n",
        "2011-01-01 01:00:00            0  "
       ]
      }
     ],
     "prompt_number": 4
    },
    {
     "cell_type": "heading",
     "level": 2,
     "metadata": {},
     "source": [
      "Removing unnecessary fields"
     ]
    },
    {
     "cell_type": "code",
     "collapsed": false,
     "input": [
      "dropFields = ['pmin', 'pmax', 't2m', 't2mmin', 't2mmax', 'rh', 'rhmin', 'rhmax', 'veter_max_hitrost']\n",
      "try:\n",
      "    data = data.drop(dropFields, axis = 1)\n",
      "except ValueError:\n",
      "    print \"Fields: {} were already deleted\".format(dropFields)\n",
      "    \n",
      "data.iloc[0:3,-10:]"
     ],
     "language": "python",
     "metadata": {},
     "outputs": [
      {
       "html": [
        "<div style=\"max-height:1000px;max-width:1500px;overflow:auto;\">\n",
        "<table border=\"1\" class=\"dataframe\">\n",
        "  <thead>\n",
        "    <tr style=\"text-align: right;\">\n",
        "      <th></th>\n",
        "      <th>id14061706</th>\n",
        "      <th>id14061723</th>\n",
        "      <th>p</th>\n",
        "      <th>t2m_termin</th>\n",
        "      <th>rh_termin</th>\n",
        "      <th>padavine</th>\n",
        "      <th>veter_hitrost</th>\n",
        "      <th>veter_vek_smer</th>\n",
        "      <th>energija_gl</th>\n",
        "      <th>energija_di</th>\n",
        "    </tr>\n",
        "  </thead>\n",
        "  <tbody>\n",
        "    <tr>\n",
        "      <th>2011-01-01 00:30:00</th>\n",
        "      <td> 75</td>\n",
        "      <td> 1</td>\n",
        "      <td> 1015</td>\n",
        "      <td>-3.2</td>\n",
        "      <td> 95</td>\n",
        "      <td> 0</td>\n",
        "      <td> 1.3</td>\n",
        "      <td> 100</td>\n",
        "      <td> 0</td>\n",
        "      <td> 0</td>\n",
        "    </tr>\n",
        "    <tr>\n",
        "      <th>2011-01-01 00:45:00</th>\n",
        "      <td> 79</td>\n",
        "      <td> 0</td>\n",
        "      <td> 1015</td>\n",
        "      <td>-3.3</td>\n",
        "      <td> 95</td>\n",
        "      <td> 0</td>\n",
        "      <td> 1.0</td>\n",
        "      <td> 102</td>\n",
        "      <td> 0</td>\n",
        "      <td> 0</td>\n",
        "    </tr>\n",
        "    <tr>\n",
        "      <th>2011-01-01 01:00:00</th>\n",
        "      <td> 78</td>\n",
        "      <td> 0</td>\n",
        "      <td> 1015</td>\n",
        "      <td>-3.4</td>\n",
        "      <td> 95</td>\n",
        "      <td> 0</td>\n",
        "      <td> 0.7</td>\n",
        "      <td> 104</td>\n",
        "      <td> 0</td>\n",
        "      <td> 0</td>\n",
        "    </tr>\n",
        "  </tbody>\n",
        "</table>\n",
        "</div>"
       ],
       "metadata": {},
       "output_type": "pyout",
       "prompt_number": 5,
       "text": [
        "                     id14061706  id14061723     p  t2m_termin  rh_termin  \\\n",
        "2011-01-01 00:30:00          75           1  1015        -3.2         95   \n",
        "2011-01-01 00:45:00          79           0  1015        -3.3         95   \n",
        "2011-01-01 01:00:00          78           0  1015        -3.4         95   \n",
        "\n",
        "                     padavine  veter_hitrost  veter_vek_smer  energija_gl  \\\n",
        "2011-01-01 00:30:00         0            1.3             100            0   \n",
        "2011-01-01 00:45:00         0            1.0             102            0   \n",
        "2011-01-01 01:00:00         0            0.7             104            0   \n",
        "\n",
        "                     energija_di  \n",
        "2011-01-01 00:30:00            0  \n",
        "2011-01-01 00:45:00            0  \n",
        "2011-01-01 01:00:00            0  "
       ]
      }
     ],
     "prompt_number": 5
    },
    {
     "cell_type": "heading",
     "level": 1,
     "metadata": {},
     "source": [
      "Additional Features"
     ]
    },
    {
     "cell_type": "heading",
     "level": 3,
     "metadata": {},
     "source": [
      "Adding DateTime Features"
     ]
    },
    {
     "cell_type": "code",
     "collapsed": false,
     "input": [
      "data[\"HourOfDay\"] = data.index.hour # Could try cyclic hours\n",
      "data[\"DayOfWeek\"] = data.index.dayofweek\n",
      "data[\"Month\"] = data.index.month # month of year [1-12]\n",
      "data[\"Weekday\"] = data.DayOfWeek.apply(lambda x: 1 if x < 5 else 0)\n",
      "data[\"Weekend\"] = data.DayOfWeek.apply(lambda x: 0 if x < 5 else 1)"
     ],
     "language": "python",
     "metadata": {},
     "outputs": [],
     "prompt_number": 6
    },
    {
     "cell_type": "markdown",
     "metadata": {},
     "source": [
      "Check days on weekends and before."
     ]
    },
    {
     "cell_type": "code",
     "collapsed": false,
     "input": [
      "data['2014-05-02 23:30:00':'2014-05-03 00:30:00'][['HourOfDay','DayOfWeek','Month','Weekday', 'Weekend']]"
     ],
     "language": "python",
     "metadata": {},
     "outputs": [
      {
       "html": [
        "<div style=\"max-height:1000px;max-width:1500px;overflow:auto;\">\n",
        "<table border=\"1\" class=\"dataframe\">\n",
        "  <thead>\n",
        "    <tr style=\"text-align: right;\">\n",
        "      <th></th>\n",
        "      <th>HourOfDay</th>\n",
        "      <th>DayOfWeek</th>\n",
        "      <th>Month</th>\n",
        "      <th>Weekday</th>\n",
        "      <th>Weekend</th>\n",
        "    </tr>\n",
        "  </thead>\n",
        "  <tbody>\n",
        "    <tr>\n",
        "      <th>2014-05-02 23:30:00</th>\n",
        "      <td> 23</td>\n",
        "      <td> 4</td>\n",
        "      <td> 5</td>\n",
        "      <td> 1</td>\n",
        "      <td> 0</td>\n",
        "    </tr>\n",
        "    <tr>\n",
        "      <th>2014-05-02 23:45:00</th>\n",
        "      <td> 23</td>\n",
        "      <td> 4</td>\n",
        "      <td> 5</td>\n",
        "      <td> 1</td>\n",
        "      <td> 0</td>\n",
        "    </tr>\n",
        "    <tr>\n",
        "      <th>2014-05-03 00:00:00</th>\n",
        "      <td>  0</td>\n",
        "      <td> 5</td>\n",
        "      <td> 5</td>\n",
        "      <td> 0</td>\n",
        "      <td> 1</td>\n",
        "    </tr>\n",
        "    <tr>\n",
        "      <th>2014-05-03 00:15:00</th>\n",
        "      <td>  0</td>\n",
        "      <td> 5</td>\n",
        "      <td> 5</td>\n",
        "      <td> 0</td>\n",
        "      <td> 1</td>\n",
        "    </tr>\n",
        "    <tr>\n",
        "      <th>2014-05-03 00:30:00</th>\n",
        "      <td>  0</td>\n",
        "      <td> 5</td>\n",
        "      <td> 5</td>\n",
        "      <td> 0</td>\n",
        "      <td> 1</td>\n",
        "    </tr>\n",
        "  </tbody>\n",
        "</table>\n",
        "</div>"
       ],
       "metadata": {},
       "output_type": "pyout",
       "prompt_number": 7,
       "text": [
        "                     HourOfDay  DayOfWeek  Month  Weekday  Weekend\n",
        "2014-05-02 23:30:00         23          4      5        1        0\n",
        "2014-05-02 23:45:00         23          4      5        1        0\n",
        "2014-05-03 00:00:00          0          5      5        0        1\n",
        "2014-05-03 00:15:00          0          5      5        0        1\n",
        "2014-05-03 00:30:00          0          5      5        0        1"
       ]
      }
     ],
     "prompt_number": 7
    },
    {
     "cell_type": "heading",
     "level": 3,
     "metadata": {},
     "source": [
      "Adding Holidays Features"
     ]
    },
    {
     "cell_type": "markdown",
     "metadata": {},
     "source": [
      "Adding holidays features such as holiday, day before holiday, day after holiday"
     ]
    },
    {
     "cell_type": "code",
     "collapsed": false,
     "input": [
      "import json\n",
      "from pprint import pprint\n",
      "from datetime import timedelta\n",
      "\n",
      "input_file_name = \"holidays.txt\"\n",
      "input_file_path = os.path.join(os.path.join(os.getcwd(), \"data\"), input_file_name)\n",
      "\n",
      "with open(input_file_path) as data_file:    \n",
      "    holiday_data = json.load(data_file)\n",
      "\n",
      "#pprint(holiday_data)   \n",
      "holidays_list = [rec[\"DateString\"] for rec in holiday_data]\n",
      "\n",
      "data[\"Holiday\"] = data.index.map(lambda x: 1 if x.strftime('%Y-%m-%d') in holidays_list else 0)\n",
      "data[\"DayBeforeHoliday\"] = data.index.map(lambda x: 1 if (x + timedelta(days=1)).strftime('%Y-%m-%d') in holidays_list else 0)\n",
      "data[\"DayAfterHodliay\"] = data.index.map(lambda x: 1 if (x - timedelta(days=1)).strftime('%Y-%m-%d') in holidays_list else 0)\n",
      "\n",
      "data[\"BusinessDay\"] = np.is_busday(data.index.values.astype('datetime64[D]'), holidays=holidays_list).astype(int)"
     ],
     "language": "python",
     "metadata": {},
     "outputs": [],
     "prompt_number": 8
    },
    {
     "cell_type": "markdown",
     "metadata": {},
     "source": [
      "Check if first of May (and the day before) is considered as BusinessDay."
     ]
    },
    {
     "cell_type": "code",
     "collapsed": false,
     "input": [
      "data['2014-04-30 23:30:00':'2014-05-01 00:30:00'][['DayOfWeek','Weekday','BusinessDay', 'Holiday', 'DayBeforeHoliday','DayAfterHodliay']]"
     ],
     "language": "python",
     "metadata": {},
     "outputs": [
      {
       "html": [
        "<div style=\"max-height:1000px;max-width:1500px;overflow:auto;\">\n",
        "<table border=\"1\" class=\"dataframe\">\n",
        "  <thead>\n",
        "    <tr style=\"text-align: right;\">\n",
        "      <th></th>\n",
        "      <th>DayOfWeek</th>\n",
        "      <th>Weekday</th>\n",
        "      <th>BusinessDay</th>\n",
        "      <th>Holiday</th>\n",
        "      <th>DayBeforeHoliday</th>\n",
        "      <th>DayAfterHodliay</th>\n",
        "    </tr>\n",
        "  </thead>\n",
        "  <tbody>\n",
        "    <tr>\n",
        "      <th>2014-04-30 23:30:00</th>\n",
        "      <td> 2</td>\n",
        "      <td> 1</td>\n",
        "      <td> 1</td>\n",
        "      <td> 0</td>\n",
        "      <td> 1</td>\n",
        "      <td> 0</td>\n",
        "    </tr>\n",
        "    <tr>\n",
        "      <th>2014-04-30 23:45:00</th>\n",
        "      <td> 2</td>\n",
        "      <td> 1</td>\n",
        "      <td> 1</td>\n",
        "      <td> 0</td>\n",
        "      <td> 1</td>\n",
        "      <td> 0</td>\n",
        "    </tr>\n",
        "    <tr>\n",
        "      <th>2014-05-01 00:00:00</th>\n",
        "      <td> 3</td>\n",
        "      <td> 1</td>\n",
        "      <td> 0</td>\n",
        "      <td> 1</td>\n",
        "      <td> 1</td>\n",
        "      <td> 0</td>\n",
        "    </tr>\n",
        "    <tr>\n",
        "      <th>2014-05-01 00:15:00</th>\n",
        "      <td> 3</td>\n",
        "      <td> 1</td>\n",
        "      <td> 0</td>\n",
        "      <td> 1</td>\n",
        "      <td> 1</td>\n",
        "      <td> 0</td>\n",
        "    </tr>\n",
        "    <tr>\n",
        "      <th>2014-05-01 00:30:00</th>\n",
        "      <td> 3</td>\n",
        "      <td> 1</td>\n",
        "      <td> 0</td>\n",
        "      <td> 1</td>\n",
        "      <td> 1</td>\n",
        "      <td> 0</td>\n",
        "    </tr>\n",
        "  </tbody>\n",
        "</table>\n",
        "</div>"
       ],
       "metadata": {},
       "output_type": "pyout",
       "prompt_number": 9,
       "text": [
        "                     DayOfWeek  Weekday  BusinessDay  Holiday  \\\n",
        "2014-04-30 23:30:00          2        1            1        0   \n",
        "2014-04-30 23:45:00          2        1            1        0   \n",
        "2014-05-01 00:00:00          3        1            0        1   \n",
        "2014-05-01 00:15:00          3        1            0        1   \n",
        "2014-05-01 00:30:00          3        1            0        1   \n",
        "\n",
        "                     DayBeforeHoliday  DayAfterHodliay  \n",
        "2014-04-30 23:30:00                 1                0  \n",
        "2014-04-30 23:45:00                 1                0  \n",
        "2014-05-01 00:00:00                 1                0  \n",
        "2014-05-01 00:15:00                 1                0  \n",
        "2014-05-01 00:30:00                 1                0  "
       ]
      }
     ],
     "prompt_number": 9
    },
    {
     "cell_type": "heading",
     "level": 3,
     "metadata": {},
     "source": [
      "Adding Dummy DateTime features"
     ]
    },
    {
     "cell_type": "markdown",
     "metadata": {},
     "source": [
      "This usually help linear regression method, but not to the other methods."
     ]
    },
    {
     "cell_type": "code",
     "collapsed": false,
     "input": [
      "#data = data.join(pd.get_dummies(data['HourOfDay'], prefix='hour'))\n",
      "#data = data.join(pd.get_dummies(data['DayOfWeek'], prefix='day'))\n",
      "#data = data.join(pd.get_dummies(data['Month'], prefix='month'))\n",
      "#data.info()"
     ],
     "language": "python",
     "metadata": {},
     "outputs": [],
     "prompt_number": 10
    },
    {
     "cell_type": "heading",
     "level": 1,
     "metadata": {},
     "source": [
      "Adding Aggregates"
     ]
    },
    {
     "cell_type": "markdown",
     "metadata": {},
     "source": [
      "Define aggregation intervals."
     ]
    },
    {
     "cell_type": "code",
     "collapsed": false,
     "input": [
      "aggr_interval = {}\n",
      "aggr_interval[\"1h\"] = data['2014-01-01 00:00:00':'2014-01-01 01:00:00'].shape[0]\n",
      "aggr_interval[\"6h\"] = data['2014-01-01 00:00:00':'2014-01-01 06:00:00'].shape[0]\n",
      "aggr_interval[\"d\"] = data['2014-01-01 00:00:00':'2014-01-02 00:00:00'].shape[0]\n",
      "aggr_interval[\"w\"] = data['2014-01-01 00:00:00':'2014-01-08 00:00:00'].shape[0]\n",
      "aggr_interval[\"m\"] = data['2014-01-01 00:00:00':'2014-02-01 00:00:00'].shape[0]\n",
      "\n",
      "for key, value in aggr_interval.iteritems():\n",
      "    print \"Interval: {}\\tlenght: {}\".format(key, value)"
     ],
     "language": "python",
     "metadata": {},
     "outputs": [
      {
       "output_type": "stream",
       "stream": "stdout",
       "text": [
        "Interval: 6h\tlenght: 25\n",
        "Interval: 1h\tlenght: 5\n",
        "Interval: m\tlenght: 2977\n",
        "Interval: d\tlenght: 97\n",
        "Interval: w\tlenght: 673\n"
       ]
      }
     ],
     "prompt_number": 11
    },
    {
     "cell_type": "markdown",
     "metadata": {},
     "source": [
      "Function that creates aggregates in the same dataframe."
     ]
    },
    {
     "cell_type": "code",
     "collapsed": false,
     "input": [
      "def create_aggregates(df, field, aggregate_function, interval_names, verbose=False):\n",
      "    for interval_name in interval_names:\n",
      "        #print aggregate_function.__name__\n",
      "        aggr_field = field + \"_\" + aggregate_function.__name__ + \"_\" + interval_name\n",
      "        df[aggr_field] = aggregate_function(df[[field]], window=aggr_interval[interval_name])\n",
      "        if verbose:\n",
      "            print \"Aggregate: {} \\t[{}]\".format(df[aggr_field].name, df[aggr_field].index.summary())"
     ],
     "language": "python",
     "metadata": {},
     "outputs": [],
     "prompt_number": 12
    },
    {
     "cell_type": "heading",
     "level": 3,
     "metadata": {},
     "source": [
      "Additional Features for sensors"
     ]
    },
    {
     "cell_type": "code",
     "collapsed": false,
     "input": [
      "data.info()"
     ],
     "language": "python",
     "metadata": {},
     "outputs": [
      {
       "output_type": "stream",
       "stream": "stdout",
       "text": [
        "<class 'pandas.core.frame.DataFrame'>\n",
        "DatetimeIndex: 143326 entries, 2011-01-01 00:30:00 to 2015-02-01 23:45:00\n",
        "Data columns (total 47 columns):\n",
        "id14061671          143326 non-null float32\n",
        "id14061684          143326 non-null float32\n",
        "id14061709          143326 non-null float32\n",
        "id14061716          143326 non-null float32\n",
        "id14061685          143326 non-null float32\n",
        "id14061674          143326 non-null float32\n",
        "id14061721          143326 non-null float32\n",
        "id14061680          143326 non-null float32\n",
        "id14061714          143326 non-null float32\n",
        "id11010024          143326 non-null float32\n",
        "id11010019          143326 non-null float32\n",
        "id14061707          143326 non-null float32\n",
        "id11010017          143326 non-null float32\n",
        "id14061677          143326 non-null float32\n",
        "id11010020          143326 non-null float32\n",
        "id14061729          143326 non-null float32\n",
        "id12041022          143326 non-null float32\n",
        "id12041989          143326 non-null float32\n",
        "id12041991          143326 non-null float32\n",
        "id14061609          143326 non-null float32\n",
        "id12041992          143326 non-null float32\n",
        "id12041987          143326 non-null float32\n",
        "id12041988          143326 non-null float32\n",
        "id12041993          143326 non-null float32\n",
        "id14061722          143326 non-null float32\n",
        "id11010018          143326 non-null float32\n",
        "id12041994          143326 non-null float32\n",
        "id14061693          143326 non-null float32\n",
        "id14061706          143326 non-null float32\n",
        "id14061723          143326 non-null float32\n",
        "p                   143326 non-null float32\n",
        "t2m_termin          143326 non-null float32\n",
        "rh_termin           143326 non-null float32\n",
        "padavine            143326 non-null float32\n",
        "veter_hitrost       143326 non-null float32\n",
        "veter_vek_smer      143326 non-null float32\n",
        "energija_gl         143326 non-null float32\n",
        "energija_di         143326 non-null float32\n",
        "HourOfDay           143326 non-null int32\n",
        "DayOfWeek           143326 non-null int32\n",
        "Month               143326 non-null int32\n",
        "Weekday             143326 non-null int64\n",
        "Weekend             143326 non-null int64\n",
        "Holiday             143326 non-null int64\n",
        "DayBeforeHoliday    143326 non-null int64\n",
        "DayAfterHodliay     143326 non-null int64\n",
        "BusinessDay         143326 non-null int32\n",
        "dtypes: float32(38), int32(4), int64(5)\n",
        "memory usage: 29.5 MB\n"
       ]
      }
     ],
     "prompt_number": 13
    },
    {
     "cell_type": "code",
     "collapsed": false,
     "input": [
      "sensor_cols = [col for col in list(data) if col.startswith('id')]\n",
      "\n",
      "for sensor_col in sensor_cols:\n",
      "    print \"Creating aggregates for sensor:\", sensor_col\n",
      "    create_aggregates(data, sensor_col, pd.rolling_mean, ['1h', '6h', 'd', 'w', 'm'])\n",
      "    create_aggregates(data, sensor_col, pd.rolling_min, ['d', 'w'])\n",
      "    create_aggregates(data, sensor_col, pd.rolling_max, ['d', 'w'])\n",
      "    create_aggregates(data, sensor_col, pd.rolling_var, ['6h', 'd', 'w'])"
     ],
     "language": "python",
     "metadata": {},
     "outputs": [
      {
       "output_type": "stream",
       "stream": "stdout",
       "text": [
        "Creating aggregates for sensor: id14061671\n",
        "Creating aggregates for sensor:"
       ]
      },
      {
       "output_type": "stream",
       "stream": "stdout",
       "text": [
        " id14061684\n",
        "Creating aggregates for sensor:"
       ]
      },
      {
       "output_type": "stream",
       "stream": "stdout",
       "text": [
        " id14061709\n",
        "Creating aggregates for sensor:"
       ]
      },
      {
       "output_type": "stream",
       "stream": "stdout",
       "text": [
        " id14061716\n",
        "Creating aggregates for sensor:"
       ]
      },
      {
       "output_type": "stream",
       "stream": "stdout",
       "text": [
        " id14061685\n",
        "Creating aggregates for sensor:"
       ]
      },
      {
       "output_type": "stream",
       "stream": "stdout",
       "text": [
        " id14061674\n",
        "Creating aggregates for sensor:"
       ]
      },
      {
       "output_type": "stream",
       "stream": "stdout",
       "text": [
        " id14061721\n",
        "Creating aggregates for sensor:"
       ]
      },
      {
       "output_type": "stream",
       "stream": "stdout",
       "text": [
        " id14061680\n",
        "Creating aggregates for sensor:"
       ]
      },
      {
       "output_type": "stream",
       "stream": "stdout",
       "text": [
        " id14061714\n",
        "Creating aggregates for sensor:"
       ]
      },
      {
       "output_type": "stream",
       "stream": "stdout",
       "text": [
        " id11010024\n",
        "Creating aggregates for sensor:"
       ]
      },
      {
       "output_type": "stream",
       "stream": "stdout",
       "text": [
        " id11010019\n",
        "Creating aggregates for sensor:"
       ]
      },
      {
       "output_type": "stream",
       "stream": "stdout",
       "text": [
        " id14061707\n",
        "Creating aggregates for sensor:"
       ]
      },
      {
       "output_type": "stream",
       "stream": "stdout",
       "text": [
        " id11010017\n",
        "Creating aggregates for sensor:"
       ]
      },
      {
       "output_type": "stream",
       "stream": "stdout",
       "text": [
        " id14061677\n",
        "Creating aggregates for sensor:"
       ]
      },
      {
       "output_type": "stream",
       "stream": "stdout",
       "text": [
        " id11010020\n",
        "Creating aggregates for sensor:"
       ]
      },
      {
       "output_type": "stream",
       "stream": "stdout",
       "text": [
        " id14061729\n",
        "Creating aggregates for sensor:"
       ]
      },
      {
       "output_type": "stream",
       "stream": "stdout",
       "text": [
        " id12041022\n",
        "Creating aggregates for sensor:"
       ]
      },
      {
       "output_type": "stream",
       "stream": "stdout",
       "text": [
        " id12041989\n",
        "Creating aggregates for sensor:"
       ]
      },
      {
       "output_type": "stream",
       "stream": "stdout",
       "text": [
        " id12041991\n",
        "Creating aggregates for sensor:"
       ]
      },
      {
       "output_type": "stream",
       "stream": "stdout",
       "text": [
        " id14061609\n",
        "Creating aggregates for sensor:"
       ]
      },
      {
       "output_type": "stream",
       "stream": "stdout",
       "text": [
        " id12041992\n"
       ]
      },
      {
       "ename": "MemoryError",
       "evalue": "",
       "output_type": "pyerr",
       "traceback": [
        "\u001b[1;31m---------------------------------------------------------------------------\u001b[0m\n\u001b[1;31mMemoryError\u001b[0m                               Traceback (most recent call last)",
        "\u001b[1;32m<ipython-input-14-a7047400ef41>\u001b[0m in \u001b[0;36m<module>\u001b[1;34m()\u001b[0m\n\u001b[0;32m      3\u001b[0m \u001b[1;32mfor\u001b[0m \u001b[0msensor_col\u001b[0m \u001b[1;32min\u001b[0m \u001b[0msensor_cols\u001b[0m\u001b[1;33m:\u001b[0m\u001b[1;33m\u001b[0m\u001b[0m\n\u001b[0;32m      4\u001b[0m     \u001b[1;32mprint\u001b[0m \u001b[1;34m\"Creating aggregates for sensor:\"\u001b[0m\u001b[1;33m,\u001b[0m \u001b[0msensor_col\u001b[0m\u001b[1;33m\u001b[0m\u001b[0m\n\u001b[1;32m----> 5\u001b[1;33m     \u001b[0mcreate_aggregates\u001b[0m\u001b[1;33m(\u001b[0m\u001b[0mdata\u001b[0m\u001b[1;33m,\u001b[0m \u001b[0msensor_col\u001b[0m\u001b[1;33m,\u001b[0m \u001b[0mpd\u001b[0m\u001b[1;33m.\u001b[0m\u001b[0mrolling_mean\u001b[0m\u001b[1;33m,\u001b[0m \u001b[1;33m[\u001b[0m\u001b[1;34m'1h'\u001b[0m\u001b[1;33m,\u001b[0m \u001b[1;34m'6h'\u001b[0m\u001b[1;33m,\u001b[0m \u001b[1;34m'd'\u001b[0m\u001b[1;33m,\u001b[0m \u001b[1;34m'w'\u001b[0m\u001b[1;33m,\u001b[0m \u001b[1;34m'm'\u001b[0m\u001b[1;33m]\u001b[0m\u001b[1;33m)\u001b[0m\u001b[1;33m\u001b[0m\u001b[0m\n\u001b[0m\u001b[0;32m      6\u001b[0m     \u001b[0mcreate_aggregates\u001b[0m\u001b[1;33m(\u001b[0m\u001b[0mdata\u001b[0m\u001b[1;33m,\u001b[0m \u001b[0msensor_col\u001b[0m\u001b[1;33m,\u001b[0m \u001b[0mpd\u001b[0m\u001b[1;33m.\u001b[0m\u001b[0mrolling_min\u001b[0m\u001b[1;33m,\u001b[0m \u001b[1;33m[\u001b[0m\u001b[1;34m'd'\u001b[0m\u001b[1;33m,\u001b[0m \u001b[1;34m'w'\u001b[0m\u001b[1;33m]\u001b[0m\u001b[1;33m)\u001b[0m\u001b[1;33m\u001b[0m\u001b[0m\n\u001b[0;32m      7\u001b[0m     \u001b[0mcreate_aggregates\u001b[0m\u001b[1;33m(\u001b[0m\u001b[0mdata\u001b[0m\u001b[1;33m,\u001b[0m \u001b[0msensor_col\u001b[0m\u001b[1;33m,\u001b[0m \u001b[0mpd\u001b[0m\u001b[1;33m.\u001b[0m\u001b[0mrolling_max\u001b[0m\u001b[1;33m,\u001b[0m \u001b[1;33m[\u001b[0m\u001b[1;34m'd'\u001b[0m\u001b[1;33m,\u001b[0m \u001b[1;34m'w'\u001b[0m\u001b[1;33m]\u001b[0m\u001b[1;33m)\u001b[0m\u001b[1;33m\u001b[0m\u001b[0m\n",
        "\u001b[1;32m<ipython-input-12-4bd18b895219>\u001b[0m in \u001b[0;36mcreate_aggregates\u001b[1;34m(df, field, aggregate_function, interval_names, verbose)\u001b[0m\n\u001b[0;32m      3\u001b[0m         \u001b[1;31m#print aggregate_function.__name__\u001b[0m\u001b[1;33m\u001b[0m\u001b[1;33m\u001b[0m\u001b[0m\n\u001b[0;32m      4\u001b[0m         \u001b[0maggr_field\u001b[0m \u001b[1;33m=\u001b[0m \u001b[0mfield\u001b[0m \u001b[1;33m+\u001b[0m \u001b[1;34m\"_\"\u001b[0m \u001b[1;33m+\u001b[0m \u001b[0maggregate_function\u001b[0m\u001b[1;33m.\u001b[0m\u001b[0m__name__\u001b[0m \u001b[1;33m+\u001b[0m \u001b[1;34m\"_\"\u001b[0m \u001b[1;33m+\u001b[0m \u001b[0minterval_name\u001b[0m\u001b[1;33m\u001b[0m\u001b[0m\n\u001b[1;32m----> 5\u001b[1;33m         \u001b[0mdf\u001b[0m\u001b[1;33m[\u001b[0m\u001b[0maggr_field\u001b[0m\u001b[1;33m]\u001b[0m \u001b[1;33m=\u001b[0m \u001b[0maggregate_function\u001b[0m\u001b[1;33m(\u001b[0m\u001b[0mdf\u001b[0m\u001b[1;33m[\u001b[0m\u001b[1;33m[\u001b[0m\u001b[0mfield\u001b[0m\u001b[1;33m]\u001b[0m\u001b[1;33m]\u001b[0m\u001b[1;33m,\u001b[0m \u001b[0mwindow\u001b[0m\u001b[1;33m=\u001b[0m\u001b[0maggr_interval\u001b[0m\u001b[1;33m[\u001b[0m\u001b[0minterval_name\u001b[0m\u001b[1;33m]\u001b[0m\u001b[1;33m)\u001b[0m\u001b[1;33m\u001b[0m\u001b[0m\n\u001b[0m\u001b[0;32m      6\u001b[0m         \u001b[1;32mif\u001b[0m \u001b[0mverbose\u001b[0m\u001b[1;33m:\u001b[0m\u001b[1;33m\u001b[0m\u001b[0m\n\u001b[0;32m      7\u001b[0m             \u001b[1;32mprint\u001b[0m \u001b[1;34m\"Aggregate: {} \\t[{}]\"\u001b[0m\u001b[1;33m.\u001b[0m\u001b[0mformat\u001b[0m\u001b[1;33m(\u001b[0m\u001b[0mdf\u001b[0m\u001b[1;33m[\u001b[0m\u001b[0maggr_field\u001b[0m\u001b[1;33m]\u001b[0m\u001b[1;33m.\u001b[0m\u001b[0mname\u001b[0m\u001b[1;33m,\u001b[0m \u001b[0mdf\u001b[0m\u001b[1;33m[\u001b[0m\u001b[0maggr_field\u001b[0m\u001b[1;33m]\u001b[0m\u001b[1;33m.\u001b[0m\u001b[0mindex\u001b[0m\u001b[1;33m.\u001b[0m\u001b[0msummary\u001b[0m\u001b[1;33m(\u001b[0m\u001b[1;33m)\u001b[0m\u001b[1;33m)\u001b[0m\u001b[1;33m\u001b[0m\u001b[0m\n",
        "\u001b[1;32mC:\\Python27\\lib\\site-packages\\pandas\\core\\frame.pyc\u001b[0m in \u001b[0;36m__getitem__\u001b[1;34m(self, key)\u001b[0m\n\u001b[0;32m   1735\u001b[0m         \u001b[1;32mif\u001b[0m \u001b[0misinstance\u001b[0m\u001b[1;33m(\u001b[0m\u001b[0mkey\u001b[0m\u001b[1;33m,\u001b[0m \u001b[1;33m(\u001b[0m\u001b[0mSeries\u001b[0m\u001b[1;33m,\u001b[0m \u001b[0mnp\u001b[0m\u001b[1;33m.\u001b[0m\u001b[0mndarray\u001b[0m\u001b[1;33m,\u001b[0m \u001b[0mIndex\u001b[0m\u001b[1;33m,\u001b[0m \u001b[0mlist\u001b[0m\u001b[1;33m)\u001b[0m\u001b[1;33m)\u001b[0m\u001b[1;33m:\u001b[0m\u001b[1;33m\u001b[0m\u001b[0m\n\u001b[0;32m   1736\u001b[0m             \u001b[1;31m# either boolean or fancy integer index\u001b[0m\u001b[1;33m\u001b[0m\u001b[1;33m\u001b[0m\u001b[0m\n\u001b[1;32m-> 1737\u001b[1;33m             \u001b[1;32mreturn\u001b[0m \u001b[0mself\u001b[0m\u001b[1;33m.\u001b[0m\u001b[0m_getitem_array\u001b[0m\u001b[1;33m(\u001b[0m\u001b[0mkey\u001b[0m\u001b[1;33m)\u001b[0m\u001b[1;33m\u001b[0m\u001b[0m\n\u001b[0m\u001b[0;32m   1738\u001b[0m         \u001b[1;32melif\u001b[0m \u001b[0misinstance\u001b[0m\u001b[1;33m(\u001b[0m\u001b[0mkey\u001b[0m\u001b[1;33m,\u001b[0m \u001b[0mDataFrame\u001b[0m\u001b[1;33m)\u001b[0m\u001b[1;33m:\u001b[0m\u001b[1;33m\u001b[0m\u001b[0m\n\u001b[0;32m   1739\u001b[0m             \u001b[1;32mreturn\u001b[0m \u001b[0mself\u001b[0m\u001b[1;33m.\u001b[0m\u001b[0m_getitem_frame\u001b[0m\u001b[1;33m(\u001b[0m\u001b[0mkey\u001b[0m\u001b[1;33m)\u001b[0m\u001b[1;33m\u001b[0m\u001b[0m\n",
        "\u001b[1;32mC:\\Python27\\lib\\site-packages\\pandas\\core\\frame.pyc\u001b[0m in \u001b[0;36m_getitem_array\u001b[1;34m(self, key)\u001b[0m\n\u001b[0;32m   1780\u001b[0m         \u001b[1;32melse\u001b[0m\u001b[1;33m:\u001b[0m\u001b[1;33m\u001b[0m\u001b[0m\n\u001b[0;32m   1781\u001b[0m             \u001b[0mindexer\u001b[0m \u001b[1;33m=\u001b[0m \u001b[0mself\u001b[0m\u001b[1;33m.\u001b[0m\u001b[0mix\u001b[0m\u001b[1;33m.\u001b[0m\u001b[0m_convert_to_indexer\u001b[0m\u001b[1;33m(\u001b[0m\u001b[0mkey\u001b[0m\u001b[1;33m,\u001b[0m \u001b[0maxis\u001b[0m\u001b[1;33m=\u001b[0m\u001b[1;36m1\u001b[0m\u001b[1;33m)\u001b[0m\u001b[1;33m\u001b[0m\u001b[0m\n\u001b[1;32m-> 1782\u001b[1;33m             \u001b[1;32mreturn\u001b[0m \u001b[0mself\u001b[0m\u001b[1;33m.\u001b[0m\u001b[0mtake\u001b[0m\u001b[1;33m(\u001b[0m\u001b[0mindexer\u001b[0m\u001b[1;33m,\u001b[0m \u001b[0maxis\u001b[0m\u001b[1;33m=\u001b[0m\u001b[1;36m1\u001b[0m\u001b[1;33m,\u001b[0m \u001b[0mconvert\u001b[0m\u001b[1;33m=\u001b[0m\u001b[0mTrue\u001b[0m\u001b[1;33m)\u001b[0m\u001b[1;33m\u001b[0m\u001b[0m\n\u001b[0m\u001b[0;32m   1783\u001b[0m \u001b[1;33m\u001b[0m\u001b[0m\n\u001b[0;32m   1784\u001b[0m     \u001b[1;32mdef\u001b[0m \u001b[0m_getitem_multilevel\u001b[0m\u001b[1;33m(\u001b[0m\u001b[0mself\u001b[0m\u001b[1;33m,\u001b[0m \u001b[0mkey\u001b[0m\u001b[1;33m)\u001b[0m\u001b[1;33m:\u001b[0m\u001b[1;33m\u001b[0m\u001b[0m\n",
        "\u001b[1;32mC:\\Python27\\lib\\site-packages\\pandas\\core\\generic.pyc\u001b[0m in \u001b[0;36mtake\u001b[1;34m(self, indices, axis, convert, is_copy)\u001b[0m\n\u001b[0;32m   1320\u001b[0m         new_data = self._data.take(indices,\n\u001b[0;32m   1321\u001b[0m                                    \u001b[0maxis\u001b[0m\u001b[1;33m=\u001b[0m\u001b[0mself\u001b[0m\u001b[1;33m.\u001b[0m\u001b[0m_get_block_manager_axis\u001b[0m\u001b[1;33m(\u001b[0m\u001b[0maxis\u001b[0m\u001b[1;33m)\u001b[0m\u001b[1;33m,\u001b[0m\u001b[1;33m\u001b[0m\u001b[0m\n\u001b[1;32m-> 1322\u001b[1;33m                                    convert=True, verify=True)\n\u001b[0m\u001b[0;32m   1323\u001b[0m         \u001b[0mresult\u001b[0m \u001b[1;33m=\u001b[0m \u001b[0mself\u001b[0m\u001b[1;33m.\u001b[0m\u001b[0m_constructor\u001b[0m\u001b[1;33m(\u001b[0m\u001b[0mnew_data\u001b[0m\u001b[1;33m)\u001b[0m\u001b[1;33m.\u001b[0m\u001b[0m__finalize__\u001b[0m\u001b[1;33m(\u001b[0m\u001b[0mself\u001b[0m\u001b[1;33m)\u001b[0m\u001b[1;33m\u001b[0m\u001b[0m\n\u001b[0;32m   1324\u001b[0m \u001b[1;33m\u001b[0m\u001b[0m\n",
        "\u001b[1;32mC:\\Python27\\lib\\site-packages\\pandas\\core\\internals.pyc\u001b[0m in \u001b[0;36mtake\u001b[1;34m(self, indexer, axis, verify, convert)\u001b[0m\n\u001b[0;32m   3214\u001b[0m         \u001b[0mTake\u001b[0m \u001b[0mitems\u001b[0m \u001b[0malong\u001b[0m \u001b[0many\u001b[0m \u001b[0maxis\u001b[0m\u001b[1;33m.\u001b[0m\u001b[1;33m\u001b[0m\u001b[0m\n\u001b[0;32m   3215\u001b[0m         \"\"\"\n\u001b[1;32m-> 3216\u001b[1;33m         \u001b[0mself\u001b[0m\u001b[1;33m.\u001b[0m\u001b[0m_consolidate_inplace\u001b[0m\u001b[1;33m(\u001b[0m\u001b[1;33m)\u001b[0m\u001b[1;33m\u001b[0m\u001b[0m\n\u001b[0m\u001b[0;32m   3217\u001b[0m         \u001b[0mindexer\u001b[0m \u001b[1;33m=\u001b[0m \u001b[0mnp\u001b[0m\u001b[1;33m.\u001b[0m\u001b[0masanyarray\u001b[0m\u001b[1;33m(\u001b[0m\u001b[0mindexer\u001b[0m\u001b[1;33m,\u001b[0m \u001b[0mdtype\u001b[0m\u001b[1;33m=\u001b[0m\u001b[0mnp\u001b[0m\u001b[1;33m.\u001b[0m\u001b[0mint_\u001b[0m\u001b[1;33m)\u001b[0m\u001b[1;33m\u001b[0m\u001b[0m\n\u001b[0;32m   3218\u001b[0m \u001b[1;33m\u001b[0m\u001b[0m\n",
        "\u001b[1;32mC:\\Python27\\lib\\site-packages\\pandas\\core\\internals.pyc\u001b[0m in \u001b[0;36m_consolidate_inplace\u001b[1;34m(self)\u001b[0m\n\u001b[0;32m   2791\u001b[0m     \u001b[1;32mdef\u001b[0m \u001b[0m_consolidate_inplace\u001b[0m\u001b[1;33m(\u001b[0m\u001b[0mself\u001b[0m\u001b[1;33m)\u001b[0m\u001b[1;33m:\u001b[0m\u001b[1;33m\u001b[0m\u001b[0m\n\u001b[0;32m   2792\u001b[0m         \u001b[1;32mif\u001b[0m \u001b[1;32mnot\u001b[0m \u001b[0mself\u001b[0m\u001b[1;33m.\u001b[0m\u001b[0mis_consolidated\u001b[0m\u001b[1;33m(\u001b[0m\u001b[1;33m)\u001b[0m\u001b[1;33m:\u001b[0m\u001b[1;33m\u001b[0m\u001b[0m\n\u001b[1;32m-> 2793\u001b[1;33m             \u001b[0mself\u001b[0m\u001b[1;33m.\u001b[0m\u001b[0mblocks\u001b[0m \u001b[1;33m=\u001b[0m \u001b[0mtuple\u001b[0m\u001b[1;33m(\u001b[0m\u001b[0m_consolidate\u001b[0m\u001b[1;33m(\u001b[0m\u001b[0mself\u001b[0m\u001b[1;33m.\u001b[0m\u001b[0mblocks\u001b[0m\u001b[1;33m)\u001b[0m\u001b[1;33m)\u001b[0m\u001b[1;33m\u001b[0m\u001b[0m\n\u001b[0m\u001b[0;32m   2794\u001b[0m \u001b[1;33m\u001b[0m\u001b[0m\n\u001b[0;32m   2795\u001b[0m             \u001b[0mself\u001b[0m\u001b[1;33m.\u001b[0m\u001b[0m_is_consolidated\u001b[0m \u001b[1;33m=\u001b[0m \u001b[0mTrue\u001b[0m\u001b[1;33m\u001b[0m\u001b[0m\n",
        "\u001b[1;32mC:\\Python27\\lib\\site-packages\\pandas\\core\\internals.pyc\u001b[0m in \u001b[0;36m_consolidate\u001b[1;34m(blocks)\u001b[0m\n\u001b[0;32m   3758\u001b[0m     \u001b[1;32mfor\u001b[0m \u001b[1;33m(\u001b[0m\u001b[0m_can_consolidate\u001b[0m\u001b[1;33m,\u001b[0m \u001b[0mdtype\u001b[0m\u001b[1;33m)\u001b[0m\u001b[1;33m,\u001b[0m \u001b[0mgroup_blocks\u001b[0m \u001b[1;32min\u001b[0m \u001b[0mgrouper\u001b[0m\u001b[1;33m:\u001b[0m\u001b[1;33m\u001b[0m\u001b[0m\n\u001b[0;32m   3759\u001b[0m         merged_blocks = _merge_blocks(list(group_blocks), dtype=dtype,\n\u001b[1;32m-> 3760\u001b[1;33m                                       _can_consolidate=_can_consolidate)\n\u001b[0m\u001b[0;32m   3761\u001b[0m         \u001b[1;32mif\u001b[0m \u001b[0misinstance\u001b[0m\u001b[1;33m(\u001b[0m\u001b[0mmerged_blocks\u001b[0m\u001b[1;33m,\u001b[0m \u001b[0mlist\u001b[0m\u001b[1;33m)\u001b[0m\u001b[1;33m:\u001b[0m\u001b[1;33m\u001b[0m\u001b[0m\n\u001b[0;32m   3762\u001b[0m             \u001b[0mnew_blocks\u001b[0m\u001b[1;33m.\u001b[0m\u001b[0mextend\u001b[0m\u001b[1;33m(\u001b[0m\u001b[0mmerged_blocks\u001b[0m\u001b[1;33m)\u001b[0m\u001b[1;33m\u001b[0m\u001b[0m\n",
        "\u001b[1;32mC:\\Python27\\lib\\site-packages\\pandas\\core\\internals.pyc\u001b[0m in \u001b[0;36m_merge_blocks\u001b[1;34m(blocks, dtype, _can_consolidate)\u001b[0m\n\u001b[0;32m   3784\u001b[0m \u001b[1;33m\u001b[0m\u001b[0m\n\u001b[0;32m   3785\u001b[0m         \u001b[0margsort\u001b[0m \u001b[1;33m=\u001b[0m \u001b[0mnp\u001b[0m\u001b[1;33m.\u001b[0m\u001b[0margsort\u001b[0m\u001b[1;33m(\u001b[0m\u001b[0mnew_mgr_locs\u001b[0m\u001b[1;33m)\u001b[0m\u001b[1;33m\u001b[0m\u001b[0m\n\u001b[1;32m-> 3786\u001b[1;33m         \u001b[0mnew_values\u001b[0m \u001b[1;33m=\u001b[0m \u001b[0mnew_values\u001b[0m\u001b[1;33m[\u001b[0m\u001b[0margsort\u001b[0m\u001b[1;33m]\u001b[0m\u001b[1;33m\u001b[0m\u001b[0m\n\u001b[0m\u001b[0;32m   3787\u001b[0m         \u001b[0mnew_mgr_locs\u001b[0m \u001b[1;33m=\u001b[0m \u001b[0mnew_mgr_locs\u001b[0m\u001b[1;33m[\u001b[0m\u001b[0margsort\u001b[0m\u001b[1;33m]\u001b[0m\u001b[1;33m\u001b[0m\u001b[0m\n\u001b[0;32m   3788\u001b[0m \u001b[1;33m\u001b[0m\u001b[0m\n",
        "\u001b[1;31mMemoryError\u001b[0m: "
       ]
      }
     ],
     "prompt_number": 14
    },
    {
     "cell_type": "heading",
     "level": 3,
     "metadata": {},
     "source": [
      "Additional Features for Weather"
     ]
    },
    {
     "cell_type": "markdown",
     "metadata": {},
     "source": [
      "Create aggregates"
     ]
    },
    {
     "cell_type": "code",
     "collapsed": false,
     "input": [
      "print \"\\n== p ==\"\n",
      "create_aggregates(data, 'p', pd.rolling_mean, ['1h', '6h', 'd', 'w', 'm'], verbose=True)\n",
      "create_aggregates(data, 'p', pd.rolling_var, ['1h', 'd'], verbose=True)\n",
      "\n",
      "print \"\\n== t2m_termin ==\"\n",
      "create_aggregates(data, 't2m_termin', pd.rolling_mean, ['1h', '6h', 'd', 'w', 'm'], verbose=True)\n",
      "create_aggregates(data, 't2m_termin', pd.rolling_min, ['d', 'w'], verbose=True)\n",
      "create_aggregates(data, 't2m_termin', pd.rolling_max, ['d', 'w'], verbose=True)\n",
      "create_aggregates(data, 't2m_termin', pd.rolling_var, ['1h', 'd'], verbose=True)\n",
      "\n",
      "print \"\\n== rh_termin ==\"\n",
      "create_aggregates(data, 'rh_termin', pd.rolling_mean, ['1h', '6h', 'd', 'w', 'm'], verbose=True)\n",
      "create_aggregates(data, 'rh_termin', pd.rolling_min, ['d', 'w'], verbose=True)\n",
      "create_aggregates(data, 'rh_termin', pd.rolling_max, ['d', 'w'], verbose=True)\n",
      "create_aggregates(data, 'rh_termin', pd.rolling_var, ['1h', 'd'], verbose=True)\n",
      "\n",
      "print \"\\n== veter_hitrost ==\"\n",
      "create_aggregates(data, 'rh_termin', pd.rolling_mean, ['1h', 'd'], verbose=True)\n",
      "create_aggregates(data, 'rh_termin', pd.rolling_var, ['1h', 'd'], verbose=True)\n",
      "\n",
      "print \"\\n== energija_gl ==\"\n",
      "create_aggregates(data, 'energija_gl', pd.rolling_mean, ['1h', '6h', 'd', 'w', 'm'], verbose=True)\n",
      "create_aggregates(data, 'energija_gl', pd.rolling_var, ['1h', 'd'], verbose=True)"
     ],
     "language": "python",
     "metadata": {},
     "outputs": []
    },
    {
     "cell_type": "code",
     "collapsed": false,
     "input": [
      "data.iloc[:,-13:].describe()"
     ],
     "language": "python",
     "metadata": {},
     "outputs": []
    },
    {
     "cell_type": "code",
     "collapsed": false,
     "input": [
      "data[['t2m_termin', 't2m_termin_roll_mean_m']].plot(figsize=(20,5))\n",
      "data['2014-04-30 23:30:00':'2014-05-07 00:30:00'][['t2m_termin','t2m_termin_roll_mean_1h','t2m_termin_roll_min2_d','t2m_termin_roll_max2_d']].plot(figsize=(20,5))"
     ],
     "language": "python",
     "metadata": {},
     "outputs": []
    },
    {
     "cell_type": "heading",
     "level": 2,
     "metadata": {},
     "source": [
      "Adding Aggregates for DateTime"
     ]
    },
    {
     "cell_type": "code",
     "collapsed": false,
     "input": [
      "data['BusinessDay_sum'] = pd.rolling_sum(data[['BusinessDay']], window=aggr_interval['w'])\n",
      "data['Holiday_sum'] = pd.rolling_sum(data[['Holiday']], window=aggr_interval['w'])"
     ],
     "language": "python",
     "metadata": {},
     "outputs": []
    },
    {
     "cell_type": "code",
     "collapsed": false,
     "input": [
      "data[['BusinessDay_sum', 'Holiday_sum']].plot()"
     ],
     "language": "python",
     "metadata": {},
     "outputs": []
    },
    {
     "cell_type": "heading",
     "level": 2,
     "metadata": {},
     "source": [
      "Feature Correlations"
     ]
    },
    {
     "cell_type": "code",
     "collapsed": false,
     "input": [
      "data.shape"
     ],
     "language": "python",
     "metadata": {},
     "outputs": []
    },
    {
     "cell_type": "code",
     "collapsed": false,
     "input": [
      "import seaborn as sns\n",
      "sns.set(context=\"paper\", font=\"monospace\")\n",
      "\n",
      "corrmat = data.corr()\n",
      "#corrmat = data['2013-01-07 22:00:00':'2014-01-14 22:00:00'].corr()\n",
      "#corrmat = data['2014-01-07 22:00:00':'2014-01-14 22:00:00'].corr()\n",
      "\n",
      "f, ax = plt.subplots(figsize=(15, 11))\n",
      "sns.heatmap(corrmat, vmax=.8, linewidths=0, cmap=\"coolwarm\", square=True)\n",
      "#sns.heatmap(corrmat, vmax=.8, linewidths=0, square=True)\n",
      "\n",
      "plt.title(\"Correlations between features (from different data sets)\")\n",
      "#f.tight_layout()\n",
      "\n",
      "#plt.savefig(\"./figures/correlations.pdf\")\n",
      "#plt.savefig(\"./figures/correlations.png\", dpi=300)"
     ],
     "language": "python",
     "metadata": {},
     "outputs": []
    }
   ],
   "metadata": {}
  }
 ]
}