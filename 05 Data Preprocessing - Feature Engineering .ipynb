{
 "cells": [
  {
   "cell_type": "markdown",
   "metadata": {},
   "source": [
    "# Feature Engineering"
   ]
  },
  {
   "cell_type": "code",
   "execution_count": 1,
   "metadata": {
    "collapsed": false
   },
   "outputs": [],
   "source": [
    "%matplotlib inline\n",
    "import matplotlib as mpl\n",
    "import pandas as pd\n",
    "import matplotlib.pyplot as plt\n",
    "import matplotlib.dates as dates\n",
    "import numpy as np\n",
    "import os"
   ]
  },
  {
   "cell_type": "markdown",
   "metadata": {},
   "source": [
    "## Loading Data"
   ]
  },
  {
   "cell_type": "code",
   "execution_count": 2,
   "metadata": {
    "collapsed": false
   },
   "outputs": [
    {
     "data": {
      "text/html": [
       "<div>\n",
       "<table border=\"1\" class=\"dataframe\">\n",
       "  <thead>\n",
       "    <tr style=\"text-align: right;\">\n",
       "      <th></th>\n",
       "      <th>id14061671</th>\n",
       "      <th>id14061684</th>\n",
       "      <th>id14061709</th>\n",
       "      <th>id14061716</th>\n",
       "      <th>id14061685</th>\n",
       "      <th>id14061674</th>\n",
       "      <th>id14061721</th>\n",
       "      <th>id14061680</th>\n",
       "      <th>id14061714</th>\n",
       "      <th>id11010024</th>\n",
       "      <th>...</th>\n",
       "      <th>rh_termin</th>\n",
       "      <th>rh</th>\n",
       "      <th>rhmin</th>\n",
       "      <th>rhmax</th>\n",
       "      <th>padavine</th>\n",
       "      <th>veter_hitrost</th>\n",
       "      <th>veter_vek_smer</th>\n",
       "      <th>veter_max_hitrost</th>\n",
       "      <th>energija_gl</th>\n",
       "      <th>energija_di</th>\n",
       "    </tr>\n",
       "  </thead>\n",
       "  <tbody>\n",
       "    <tr>\n",
       "      <th>2011-01-01 00:30:00</th>\n",
       "      <td>0</td>\n",
       "      <td>0</td>\n",
       "      <td>75</td>\n",
       "      <td>15</td>\n",
       "      <td>37</td>\n",
       "      <td>18</td>\n",
       "      <td>13</td>\n",
       "      <td>4</td>\n",
       "      <td>0</td>\n",
       "      <td>1</td>\n",
       "      <td>...</td>\n",
       "      <td>95</td>\n",
       "      <td>95</td>\n",
       "      <td>95</td>\n",
       "      <td>95</td>\n",
       "      <td>0</td>\n",
       "      <td>1.30</td>\n",
       "      <td>100.0</td>\n",
       "      <td>1.90</td>\n",
       "      <td>0</td>\n",
       "      <td>0</td>\n",
       "    </tr>\n",
       "    <tr>\n",
       "      <th>2011-01-01 00:45:00</th>\n",
       "      <td>0</td>\n",
       "      <td>0</td>\n",
       "      <td>79</td>\n",
       "      <td>15</td>\n",
       "      <td>33</td>\n",
       "      <td>17</td>\n",
       "      <td>10</td>\n",
       "      <td>4</td>\n",
       "      <td>0</td>\n",
       "      <td>0</td>\n",
       "      <td>...</td>\n",
       "      <td>95</td>\n",
       "      <td>95</td>\n",
       "      <td>95</td>\n",
       "      <td>95</td>\n",
       "      <td>0</td>\n",
       "      <td>1.00</td>\n",
       "      <td>102.0</td>\n",
       "      <td>1.65</td>\n",
       "      <td>0</td>\n",
       "      <td>0</td>\n",
       "    </tr>\n",
       "    <tr>\n",
       "      <th>2011-01-01 01:00:00</th>\n",
       "      <td>0</td>\n",
       "      <td>0</td>\n",
       "      <td>77</td>\n",
       "      <td>15</td>\n",
       "      <td>32</td>\n",
       "      <td>21</td>\n",
       "      <td>12</td>\n",
       "      <td>4</td>\n",
       "      <td>0</td>\n",
       "      <td>0</td>\n",
       "      <td>...</td>\n",
       "      <td>95</td>\n",
       "      <td>95</td>\n",
       "      <td>95</td>\n",
       "      <td>95</td>\n",
       "      <td>0</td>\n",
       "      <td>0.70</td>\n",
       "      <td>104.0</td>\n",
       "      <td>1.40</td>\n",
       "      <td>0</td>\n",
       "      <td>0</td>\n",
       "    </tr>\n",
       "    <tr>\n",
       "      <th>2011-01-01 01:15:00</th>\n",
       "      <td>0</td>\n",
       "      <td>0</td>\n",
       "      <td>81</td>\n",
       "      <td>16</td>\n",
       "      <td>36</td>\n",
       "      <td>19</td>\n",
       "      <td>13</td>\n",
       "      <td>4</td>\n",
       "      <td>0</td>\n",
       "      <td>1</td>\n",
       "      <td>...</td>\n",
       "      <td>95</td>\n",
       "      <td>95</td>\n",
       "      <td>95</td>\n",
       "      <td>95</td>\n",
       "      <td>0</td>\n",
       "      <td>0.85</td>\n",
       "      <td>108.5</td>\n",
       "      <td>1.50</td>\n",
       "      <td>0</td>\n",
       "      <td>0</td>\n",
       "    </tr>\n",
       "    <tr>\n",
       "      <th>2011-01-01 01:30:00</th>\n",
       "      <td>0</td>\n",
       "      <td>0</td>\n",
       "      <td>82</td>\n",
       "      <td>14</td>\n",
       "      <td>34</td>\n",
       "      <td>18</td>\n",
       "      <td>10</td>\n",
       "      <td>4</td>\n",
       "      <td>0</td>\n",
       "      <td>0</td>\n",
       "      <td>...</td>\n",
       "      <td>95</td>\n",
       "      <td>95</td>\n",
       "      <td>95</td>\n",
       "      <td>95</td>\n",
       "      <td>0</td>\n",
       "      <td>1.00</td>\n",
       "      <td>113.0</td>\n",
       "      <td>1.60</td>\n",
       "      <td>0</td>\n",
       "      <td>0</td>\n",
       "    </tr>\n",
       "  </tbody>\n",
       "</table>\n",
       "<p>5 rows × 47 columns</p>\n",
       "</div>"
      ],
      "text/plain": [
       "                     id14061671  id14061684  id14061709  id14061716  \\\n",
       "2011-01-01 00:30:00           0           0          75          15   \n",
       "2011-01-01 00:45:00           0           0          79          15   \n",
       "2011-01-01 01:00:00           0           0          77          15   \n",
       "2011-01-01 01:15:00           0           0          81          16   \n",
       "2011-01-01 01:30:00           0           0          82          14   \n",
       "\n",
       "                     id14061685  id14061674  id14061721  id14061680  \\\n",
       "2011-01-01 00:30:00          37          18          13           4   \n",
       "2011-01-01 00:45:00          33          17          10           4   \n",
       "2011-01-01 01:00:00          32          21          12           4   \n",
       "2011-01-01 01:15:00          36          19          13           4   \n",
       "2011-01-01 01:30:00          34          18          10           4   \n",
       "\n",
       "                     id14061714  id11010024     ...       rh_termin  rh  \\\n",
       "2011-01-01 00:30:00           0           1     ...              95  95   \n",
       "2011-01-01 00:45:00           0           0     ...              95  95   \n",
       "2011-01-01 01:00:00           0           0     ...              95  95   \n",
       "2011-01-01 01:15:00           0           1     ...              95  95   \n",
       "2011-01-01 01:30:00           0           0     ...              95  95   \n",
       "\n",
       "                     rhmin  rhmax  padavine  veter_hitrost  veter_vek_smer  \\\n",
       "2011-01-01 00:30:00     95     95         0           1.30           100.0   \n",
       "2011-01-01 00:45:00     95     95         0           1.00           102.0   \n",
       "2011-01-01 01:00:00     95     95         0           0.70           104.0   \n",
       "2011-01-01 01:15:00     95     95         0           0.85           108.5   \n",
       "2011-01-01 01:30:00     95     95         0           1.00           113.0   \n",
       "\n",
       "                     veter_max_hitrost  energija_gl  energija_di  \n",
       "2011-01-01 00:30:00               1.90            0            0  \n",
       "2011-01-01 00:45:00               1.65            0            0  \n",
       "2011-01-01 01:00:00               1.40            0            0  \n",
       "2011-01-01 01:15:00               1.50            0            0  \n",
       "2011-01-01 01:30:00               1.60            0            0  \n",
       "\n",
       "[5 rows x 47 columns]"
      ]
     },
     "execution_count": 2,
     "metadata": {},
     "output_type": "execute_result"
    }
   ],
   "source": [
    "input_file_name = \"merged.csv\"\n",
    "input_file_path = os.path.join(os.path.join(os.getcwd(), \"data\"), input_file_name)\n",
    "\n",
    "data = pd.read_csv(input_file_path, index_col=0, parse_dates=True)\n",
    "data.head()\n",
    "#load_data.shape"
   ]
  },
  {
   "cell_type": "markdown",
   "metadata": {},
   "source": [
    "## Adding DateTime Features"
   ]
  },
  {
   "cell_type": "code",
   "execution_count": 3,
   "metadata": {
    "collapsed": false
   },
   "outputs": [],
   "source": [
    "data[\"HourOfDay\"] = data.index.hour # Could try cyclic hours\n",
    "data[\"DayOfWeek\"] = data.index.dayofweek\n",
    "data[\"Month\"] = data.index.month # month of year [1-12]\n",
    "data[\"Weekday\"] = data.DayOfWeek.apply(lambda x: 1 if x < 5 else 0)\n",
    "data[\"Weekend\"] = data.DayOfWeek.apply(lambda x: 0 if x < 5 else 1)"
   ]
  },
  {
   "cell_type": "markdown",
   "metadata": {},
   "source": [
    "\n",
    "Check days on weekends and before."
   ]
  },
  {
   "cell_type": "code",
   "execution_count": 4,
   "metadata": {
    "collapsed": false
   },
   "outputs": [
    {
     "data": {
      "text/html": [
       "<div>\n",
       "<table border=\"1\" class=\"dataframe\">\n",
       "  <thead>\n",
       "    <tr style=\"text-align: right;\">\n",
       "      <th></th>\n",
       "      <th>HourOfDay</th>\n",
       "      <th>DayOfWeek</th>\n",
       "      <th>Month</th>\n",
       "      <th>Weekday</th>\n",
       "      <th>Weekend</th>\n",
       "    </tr>\n",
       "  </thead>\n",
       "  <tbody>\n",
       "    <tr>\n",
       "      <th>2014-05-02 23:30:00</th>\n",
       "      <td>23</td>\n",
       "      <td>4</td>\n",
       "      <td>5</td>\n",
       "      <td>1</td>\n",
       "      <td>0</td>\n",
       "    </tr>\n",
       "    <tr>\n",
       "      <th>2014-05-02 23:45:00</th>\n",
       "      <td>23</td>\n",
       "      <td>4</td>\n",
       "      <td>5</td>\n",
       "      <td>1</td>\n",
       "      <td>0</td>\n",
       "    </tr>\n",
       "    <tr>\n",
       "      <th>2014-05-03 00:00:00</th>\n",
       "      <td>0</td>\n",
       "      <td>5</td>\n",
       "      <td>5</td>\n",
       "      <td>0</td>\n",
       "      <td>1</td>\n",
       "    </tr>\n",
       "    <tr>\n",
       "      <th>2014-05-03 00:15:00</th>\n",
       "      <td>0</td>\n",
       "      <td>5</td>\n",
       "      <td>5</td>\n",
       "      <td>0</td>\n",
       "      <td>1</td>\n",
       "    </tr>\n",
       "    <tr>\n",
       "      <th>2014-05-03 00:30:00</th>\n",
       "      <td>0</td>\n",
       "      <td>5</td>\n",
       "      <td>5</td>\n",
       "      <td>0</td>\n",
       "      <td>1</td>\n",
       "    </tr>\n",
       "  </tbody>\n",
       "</table>\n",
       "</div>"
      ],
      "text/plain": [
       "                     HourOfDay  DayOfWeek  Month  Weekday  Weekend\n",
       "2014-05-02 23:30:00         23          4      5        1        0\n",
       "2014-05-02 23:45:00         23          4      5        1        0\n",
       "2014-05-03 00:00:00          0          5      5        0        1\n",
       "2014-05-03 00:15:00          0          5      5        0        1\n",
       "2014-05-03 00:30:00          0          5      5        0        1"
      ]
     },
     "execution_count": 4,
     "metadata": {},
     "output_type": "execute_result"
    }
   ],
   "source": [
    "data['2014-05-02 23:30:00':'2014-05-03 00:30:00'][['HourOfDay','DayOfWeek','Month','Weekday', 'Weekend']]"
   ]
  },
  {
   "cell_type": "markdown",
   "metadata": {},
   "source": [
    "## Adding Holidays"
   ]
  },
  {
   "cell_type": "code",
   "execution_count": 5,
   "metadata": {
    "collapsed": false
   },
   "outputs": [],
   "source": [
    "import json\n",
    "from pprint import pprint\n",
    "\n",
    "input_file_name = \"holidays.txt\"\n",
    "input_file_path = os.path.join(os.path.join(os.getcwd(), \"data\"), input_file_name)\n",
    "\n",
    "with open(input_file_path) as data_file:    \n",
    "    holiday_data = json.load(data_file)\n",
    "\n",
    "#pprint(holiday_data)\n",
    "holidays_list = [rec[\"DateString\"] for rec in holiday_data]\n",
    "data[\"BusinessDay\"] = np.is_busday(data.index.values.astype('datetime64[D]'), holidays=holidays_list).astype(int)"
   ]
  },
  {
   "cell_type": "markdown",
   "metadata": {},
   "source": [
    "Check if first of May (and the day before) is considered as BusinessDay."
   ]
  },
  {
   "cell_type": "code",
   "execution_count": 6,
   "metadata": {
    "collapsed": false
   },
   "outputs": [
    {
     "data": {
      "text/html": [
       "<div>\n",
       "<table border=\"1\" class=\"dataframe\">\n",
       "  <thead>\n",
       "    <tr style=\"text-align: right;\">\n",
       "      <th></th>\n",
       "      <th>HourOfDay</th>\n",
       "      <th>DayOfWeek</th>\n",
       "      <th>Month</th>\n",
       "      <th>Weekday</th>\n",
       "      <th>BusinessDay</th>\n",
       "    </tr>\n",
       "  </thead>\n",
       "  <tbody>\n",
       "    <tr>\n",
       "      <th>2014-04-30 23:30:00</th>\n",
       "      <td>23</td>\n",
       "      <td>2</td>\n",
       "      <td>4</td>\n",
       "      <td>1</td>\n",
       "      <td>1</td>\n",
       "    </tr>\n",
       "    <tr>\n",
       "      <th>2014-04-30 23:45:00</th>\n",
       "      <td>23</td>\n",
       "      <td>2</td>\n",
       "      <td>4</td>\n",
       "      <td>1</td>\n",
       "      <td>1</td>\n",
       "    </tr>\n",
       "    <tr>\n",
       "      <th>2014-05-01 00:00:00</th>\n",
       "      <td>0</td>\n",
       "      <td>3</td>\n",
       "      <td>5</td>\n",
       "      <td>1</td>\n",
       "      <td>0</td>\n",
       "    </tr>\n",
       "    <tr>\n",
       "      <th>2014-05-01 00:15:00</th>\n",
       "      <td>0</td>\n",
       "      <td>3</td>\n",
       "      <td>5</td>\n",
       "      <td>1</td>\n",
       "      <td>0</td>\n",
       "    </tr>\n",
       "    <tr>\n",
       "      <th>2014-05-01 00:30:00</th>\n",
       "      <td>0</td>\n",
       "      <td>3</td>\n",
       "      <td>5</td>\n",
       "      <td>1</td>\n",
       "      <td>0</td>\n",
       "    </tr>\n",
       "  </tbody>\n",
       "</table>\n",
       "</div>"
      ],
      "text/plain": [
       "                     HourOfDay  DayOfWeek  Month  Weekday  BusinessDay\n",
       "2014-04-30 23:30:00         23          2      4        1            1\n",
       "2014-04-30 23:45:00         23          2      4        1            1\n",
       "2014-05-01 00:00:00          0          3      5        1            0\n",
       "2014-05-01 00:15:00          0          3      5        1            0\n",
       "2014-05-01 00:30:00          0          3      5        1            0"
      ]
     },
     "execution_count": 6,
     "metadata": {},
     "output_type": "execute_result"
    }
   ],
   "source": [
    "data['2014-04-30 23:30:00':'2014-05-01 00:30:00'][['HourOfDay','DayOfWeek','Month','Weekday','BusinessDay']]"
   ]
  },
  {
   "cell_type": "markdown",
   "metadata": {},
   "source": [
    "## Exporting dataset"
   ]
  },
  {
   "cell_type": "code",
   "execution_count": 7,
   "metadata": {
    "collapsed": false
   },
   "outputs": [],
   "source": [
    "output_file_name = \"enriched.csv\"\n",
    "output_file_name = os.path.join(os.path.join(os.getcwd(), \"data\"), output_file_name)\n",
    "\n",
    "data.to_csv(output_file_name)"
   ]
  }
 ],
 "metadata": {
  "kernelspec": {
   "display_name": "Python 2",
   "language": "python",
   "name": "python2"
  },
  "language_info": {
   "codemirror_mode": {
    "name": "ipython",
    "version": 2
   },
   "file_extension": ".py",
   "mimetype": "text/x-python",
   "name": "python",
   "nbconvert_exporter": "python",
   "pygments_lexer": "ipython2",
   "version": "2.7.10"
  }
 },
 "nbformat": 4,
 "nbformat_minor": 0
}
